{
 "cells": [
  {
   "cell_type": "markdown",
   "metadata": {},
   "source": [
    "Documentación de la API: \n",
    "\n",
    "https://python-musicbrainzngs.readthedocs.io/en/v0.7.1/\n",
    "\n",
    "Bueno mañana sigo porque tengo sueño"
   ]
  },
  {
   "cell_type": "code",
   "execution_count": 5,
   "metadata": {},
   "outputs": [
    {
     "ename": "TypeError",
     "evalue": "set_useragent() missing 2 required positional arguments: 'app' and 'version'",
     "output_type": "error",
     "traceback": [
      "\u001b[1;31m---------------------------------------------------------------------------\u001b[0m",
      "\u001b[1;31mTypeError\u001b[0m                                 Traceback (most recent call last)",
      "\u001b[1;32mc:\\Users\\ariro\\OneDrive\\Desktop\\Redes Complejas\\musicbrainz.ipynb Celda 2\u001b[0m in \u001b[0;36m<cell line: 5>\u001b[1;34m()\u001b[0m\n\u001b[0;32m      <a href='vscode-notebook-cell:/c%3A/Users/ariro/OneDrive/Desktop/Redes%20Complejas/musicbrainz.ipynb#W1sZmlsZQ%3D%3D?line=0'>1</a>\u001b[0m \u001b[39mimport\u001b[39;00m \u001b[39mmusicbrainzngs\u001b[39;00m \u001b[39mas\u001b[39;00m \u001b[39mmb\u001b[39;00m\n\u001b[0;32m      <a href='vscode-notebook-cell:/c%3A/Users/ariro/OneDrive/Desktop/Redes%20Complejas/musicbrainz.ipynb#W1sZmlsZQ%3D%3D?line=3'>4</a>\u001b[0m \u001b[39m#Identificación\u001b[39;00m\n\u001b[1;32m----> <a href='vscode-notebook-cell:/c%3A/Users/ariro/OneDrive/Desktop/Redes%20Complejas/musicbrainz.ipynb#W1sZmlsZQ%3D%3D?line=4'>5</a>\u001b[0m mb\u001b[39m.\u001b[39;49mset_useragent()\n",
      "\u001b[1;31mTypeError\u001b[0m: set_useragent() missing 2 required positional arguments: 'app' and 'version'"
     ]
    }
   ],
   "source": [
    "import musicbrainzngs as mb\n",
    "\n",
    "\n",
    "#Identificación\n",
    "mb.set_useragent() #necesita 2 argumentos, no entendi bien que poner\n",
    "\n"
   ]
  },
  {
   "cell_type": "code",
   "execution_count": null,
   "metadata": {},
   "outputs": [],
   "source": []
  }
 ],
 "metadata": {
  "kernelspec": {
   "display_name": "Python 3.9.10 ('base')",
   "language": "python",
   "name": "python3"
  },
  "language_info": {
   "codemirror_mode": {
    "name": "ipython",
    "version": 3
   },
   "file_extension": ".py",
   "mimetype": "text/x-python",
   "name": "python",
   "nbconvert_exporter": "python",
   "pygments_lexer": "ipython3",
   "version": "3.9.10"
  },
  "orig_nbformat": 4,
  "vscode": {
   "interpreter": {
    "hash": "12fec0b82b6e67d118931bc7f50b8e717b763be472670bda039269912f70a211"
   }
  }
 },
 "nbformat": 4,
 "nbformat_minor": 2
}
