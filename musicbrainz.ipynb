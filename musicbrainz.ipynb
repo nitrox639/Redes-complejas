{
 "cells": [
  {
   "cell_type": "markdown",
   "metadata": {},
   "source": [
    "Documentación de la API: \n",
    "\n",
    "https://python-musicbrainzngs.readthedocs.io/en/v0.7.1/\n",
    "\n",
    "Bueno mañana sigo porque tengo sueño"
   ]
  },
  {
   "cell_type": "code",
   "execution_count": 2,
   "metadata": {},
   "outputs": [],
   "source": [
    "import musicbrainzngs as mb\n",
    "\n",
    "OAuth_Client_ID = 'SObZ1oUfqqaJS5TLsZ2Ohy4LdqMa3Mpr'\n",
    "OAuth_Client_Secret = 'kUXJwU5WqBa5C7CkjCUITfdL6NQMd-4m'\n",
    "#Identificación\n",
    "mb.set_useragent('redes_complejas', 0.1) "
   ]
  },
  {
   "cell_type": "code",
   "execution_count": 5,
   "metadata": {},
   "outputs": [
    {
     "data": {
      "text/plain": [
       "'GB'"
      ]
     },
     "execution_count": 5,
     "metadata": {},
     "output_type": "execute_result"
    }
   ],
   "source": [
    "def conseguir_pais(id):\n",
    "    return mb.get_artist_by_id(id)['artist']['area']['name']"
   ]
  },
  {
   "cell_type": "code",
   "execution_count": 9,
   "metadata": {},
   "outputs": [
    {
     "data": {
      "text/plain": [
       "'United Kingdom'"
      ]
     },
     "execution_count": 9,
     "metadata": {},
     "output_type": "execute_result"
    }
   ],
   "source": []
  },
  {
   "cell_type": "code",
   "execution_count": null,
   "metadata": {},
   "outputs": [],
   "source": []
  }
 ],
 "metadata": {
  "kernelspec": {
   "display_name": "Python 3.9.10 ('base')",
   "language": "python",
   "name": "python3"
  },
  "language_info": {
   "codemirror_mode": {
    "name": "ipython",
    "version": 3
   },
   "file_extension": ".py",
   "mimetype": "text/x-python",
   "name": "python",
   "nbconvert_exporter": "python",
   "pygments_lexer": "ipython3",
   "version": "3.9.10"
  },
  "orig_nbformat": 4,
  "vscode": {
   "interpreter": {
    "hash": "12fec0b82b6e67d118931bc7f50b8e717b763be472670bda039269912f70a211"
   }
  }
 },
 "nbformat": 4,
 "nbformat_minor": 2
}
