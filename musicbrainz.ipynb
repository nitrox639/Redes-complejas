{
 "cells": [
  {
   "cell_type": "markdown",
   "metadata": {},
   "source": [
    "Documentación de la API: \n",
    "\n",
    "https://python-musicbrainzngs.readthedocs.io/en/v0.7.1/\n",
    "\n",
    "Bueno mañana sigo porque tengo sueño"
   ]
  },
  {
   "cell_type": "code",
   "execution_count": 6,
   "metadata": {},
   "outputs": [],
   "source": [
    "import musicbrainzngs as mb\n",
    "\n",
    "OAuth_Client_ID = 'SObZ1oUfqqaJS5TLsZ2Ohy4LdqMa3Mpr'\n",
    "OAuth_Client_Secret = 'kUXJwU5WqBa5C7CkjCUITfdL6NQMd-4m'\n",
    "#Identificación\n",
    "mb.set_useragent('redes_complejas', 0.1) "
   ]
  },
  {
   "cell_type": "code",
   "execution_count": 8,
   "metadata": {},
   "outputs": [
    {
     "data": {
      "text/plain": [
       "{'artist': {'id': 'dfe9a7c4-8cf2-47f4-9dcb-d233c2b86ec3',\n",
       "  'type': 'Person',\n",
       "  'name': 'Amy Winehouse',\n",
       "  'sort-name': 'Winehouse, Amy',\n",
       "  'ipi': '00461733556',\n",
       "  'ipi-list': ['00461733556'],\n",
       "  'isni-list': ['0000000079920467'],\n",
       "  'gender': 'Female',\n",
       "  'country': 'GB',\n",
       "  'area': {'id': '8a754a16-0027-3a29-b6d7-2b40ea0481ed',\n",
       "   'name': 'United Kingdom',\n",
       "   'sort-name': 'United Kingdom',\n",
       "   'iso-3166-1-code-list': ['GB']},\n",
       "  'begin-area': {'id': 'c9bf7b06-c753-4c03-b35c-b27364b77e2e',\n",
       "   'name': 'Southgate',\n",
       "   'sort-name': 'Southgate'},\n",
       "  'end-area': {'id': '627f7b90-32b6-4bc6-b11e-ee1d86ca1cd7',\n",
       "   'name': 'Camden',\n",
       "   'sort-name': 'Camden',\n",
       "   'iso-3166-2-code-list': ['GB-CMD']},\n",
       "  'life-span': {'begin': '1983-09-14', 'end': '2011-07-23', 'ended': 'true'}}}"
      ]
     },
     "execution_count": 8,
     "metadata": {},
     "output_type": "execute_result"
    }
   ],
   "source": [
    "id = 'dfe9a7c4-8cf2-47f4-9dcb-d233c2b86ec3'\n",
    "mb.get_artist_by_id(id)"
   ]
  },
  {
   "cell_type": "code",
   "execution_count": null,
   "metadata": {},
   "outputs": [],
   "source": []
  }
 ],
 "metadata": {
  "kernelspec": {
   "display_name": "Python 3.9.10 ('base')",
   "language": "python",
   "name": "python3"
  },
  "language_info": {
   "codemirror_mode": {
    "name": "ipython",
    "version": 3
   },
   "file_extension": ".py",
   "mimetype": "text/x-python",
   "name": "python",
   "nbconvert_exporter": "python",
   "pygments_lexer": "ipython3",
   "version": "3.9.10"
  },
  "orig_nbformat": 4,
  "vscode": {
   "interpreter": {
    "hash": "12fec0b82b6e67d118931bc7f50b8e717b763be472670bda039269912f70a211"
   }
  }
 },
 "nbformat": 4,
 "nbformat_minor": 2
}
