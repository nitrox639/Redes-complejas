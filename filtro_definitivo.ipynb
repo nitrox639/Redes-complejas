{
 "cells": [
  {
   "cell_type": "markdown",
   "metadata": {},
   "source": [
    "Métodos de comparación de strings para ver si los artistas no son el mismo:\n",
    "- Levenshtein Distance  (cantidad de operaciones necesarias para llegar a la otra)\n",
    "- Damerau-Levenshtein Distance\n",
    "- Jaro Distance\n",
    "- Jaro-Winkler Distance\n",
    "- Match Rating Approach Comparison\n",
    "- Hamming Distance"
   ]
  },
  {
   "cell_type": "code",
   "execution_count": 2,
   "metadata": {},
   "outputs": [],
   "source": [
    "import networkx as nx\n",
    "import musicbrainzngs as mb \n",
    "import pickle\n",
    "import numpy as np\n",
    "import matplotlib.pyplot as plt\n",
    "import time\n",
    "import pandas as pd"
   ]
  },
  {
   "cell_type": "markdown",
   "metadata": {},
   "source": [
    "Cargo la data "
   ]
  },
  {
   "cell_type": "code",
   "execution_count": 11,
   "metadata": {},
   "outputs": [],
   "source": [
    "# Indice inicial de la lista que vamos a recorrer\n",
    "i = 1496 # ESTE ES EL ÚLTIMO. GUARDE VARIOS ANTES POR LAS DUDAS.\n",
    "# Cargamos el multigrafo\n",
    "with open(f\"red_final/Iteracion {i}/red_final_hasta_indice_{i}.gpickle\", \"rb\") as f:\n",
    "    G = pickle.load(f)\n",
    "# Artistas que fueron revisados\n",
    "with open(f'red_final/Iteracion {i}/lista_artistas_argentinos_hasta_indice_{i}.pickle', 'rb') as f:\n",
    "    lista_artistas = pickle.load(f)\n",
    "# Albumes que fueron revisados\n",
    "with open(f'red_final/Iteracion {i}/albums_revisados_hasta_indice_{i}.pickle', 'rb') as f:\n",
    "    albums_revisados = pickle.load(f)\n",
    "# Canciones que fueron revisadas\n",
    "with open(f'red_final/Iteracion {i}/canciones_revisadas_hasta_indice_{i}.pickle', 'rb') as f:\n",
    "    canciones_revisadas = pickle.load(f)\n",
    "#Error aceptado de los strings\n",
    "with open(f'red_final/Iteracion {i}/lista_porcentajes_hasta_indice_{i}.pickle', 'rb') as f:\n",
    "    lista_porcentajes = pickle.load(f)"
   ]
  },
  {
   "cell_type": "code",
   "execution_count": 12,
   "metadata": {},
   "outputs": [
    {
     "data": {
      "text/plain": [
       "0.7941176470588235"
      ]
     },
     "execution_count": 12,
     "metadata": {},
     "output_type": "execute_result"
    }
   ],
   "source": [
    "jellyfish.jaro_distance('Aníbal Troilo & Su Orquesta Típica', 'Aníbal Troilo')\n"
   ]
  },
  {
   "cell_type": "code",
   "execution_count": 20,
   "metadata": {},
   "outputs": [
    {
     "ename": "NetworkXError",
     "evalue": "The edge Karamelo Santo-Pablo Lezcano with key El Baile Oficial is not in the graph.",
     "output_type": "error",
     "traceback": [
      "\u001b[1;31m---------------------------------------------------------------------------\u001b[0m",
      "\u001b[1;31mKeyError\u001b[0m                                  Traceback (most recent call last)",
      "File \u001b[1;32mc:\\Users\\ariro\\mambaforge\\lib\\site-packages\\networkx\\classes\\multigraph.py:657\u001b[0m, in \u001b[0;36mMultiGraph.remove_edge\u001b[1;34m(self, u, v, key)\u001b[0m\n\u001b[0;32m    656\u001b[0m \u001b[39mtry\u001b[39;00m:\n\u001b[1;32m--> 657\u001b[0m     \u001b[39mdel\u001b[39;00m d[key]\n\u001b[0;32m    658\u001b[0m \u001b[39mexcept\u001b[39;00m \u001b[39mKeyError\u001b[39;00m \u001b[39mas\u001b[39;00m err:\n",
      "\u001b[1;31mKeyError\u001b[0m: 'El Baile Oficial'",
      "\nThe above exception was the direct cause of the following exception:\n",
      "\u001b[1;31mNetworkXError\u001b[0m                             Traceback (most recent call last)",
      "\u001b[1;32mc:\\Users\\ariro\\OneDrive\\Desktop\\Facultad\\Redes Complejas\\Redes-complejas\\filtro_definitivo.ipynb Celda 6\u001b[0m in \u001b[0;36m<cell line: 15>\u001b[1;34m()\u001b[0m\n\u001b[0;32m     <a href='vscode-notebook-cell:/c%3A/Users/ariro/OneDrive/Desktop/Facultad/Redes%20Complejas/Redes-complejas/filtro_definitivo.ipynb#W5sZmlsZQ%3D%3D?line=34'>35</a>\u001b[0m \u001b[39melif\u001b[39;00m artista_similar \u001b[39m==\u001b[39m enlace[\u001b[39m1\u001b[39m]:\n\u001b[0;32m     <a href='vscode-notebook-cell:/c%3A/Users/ariro/OneDrive/Desktop/Facultad/Redes%20Complejas/Redes-complejas/filtro_definitivo.ipynb#W5sZmlsZQ%3D%3D?line=35'>36</a>\u001b[0m     copia_G\u001b[39m.\u001b[39madd_edge(enlace[\u001b[39m0\u001b[39m], i) \n\u001b[1;32m---> <a href='vscode-notebook-cell:/c%3A/Users/ariro/OneDrive/Desktop/Facultad/Redes%20Complejas/Redes-complejas/filtro_definitivo.ipynb#W5sZmlsZQ%3D%3D?line=36'>37</a>\u001b[0m copia_G\u001b[39m.\u001b[39;49mremove_edge(enlace[\u001b[39m0\u001b[39;49m], enlace[\u001b[39m1\u001b[39;49m],enlace[\u001b[39m2\u001b[39;49m][\u001b[39m'\u001b[39;49m\u001b[39mnombre\u001b[39;49m\u001b[39m'\u001b[39;49m])\n",
      "File \u001b[1;32mc:\\Users\\ariro\\mambaforge\\lib\\site-packages\\networkx\\classes\\multigraph.py:660\u001b[0m, in \u001b[0;36mMultiGraph.remove_edge\u001b[1;34m(self, u, v, key)\u001b[0m\n\u001b[0;32m    658\u001b[0m     \u001b[39mexcept\u001b[39;00m \u001b[39mKeyError\u001b[39;00m \u001b[39mas\u001b[39;00m err:\n\u001b[0;32m    659\u001b[0m         msg \u001b[39m=\u001b[39m \u001b[39mf\u001b[39m\u001b[39m\"\u001b[39m\u001b[39mThe edge \u001b[39m\u001b[39m{\u001b[39;00mu\u001b[39m}\u001b[39;00m\u001b[39m-\u001b[39m\u001b[39m{\u001b[39;00mv\u001b[39m}\u001b[39;00m\u001b[39m with key \u001b[39m\u001b[39m{\u001b[39;00mkey\u001b[39m}\u001b[39;00m\u001b[39m is not in the graph.\u001b[39m\u001b[39m\"\u001b[39m\n\u001b[1;32m--> 660\u001b[0m         \u001b[39mraise\u001b[39;00m NetworkXError(msg) \u001b[39mfrom\u001b[39;00m \u001b[39merr\u001b[39;00m\n\u001b[0;32m    661\u001b[0m \u001b[39mif\u001b[39;00m \u001b[39mlen\u001b[39m(d) \u001b[39m==\u001b[39m \u001b[39m0\u001b[39m:\n\u001b[0;32m    662\u001b[0m     \u001b[39m# remove the key entries if last edge\u001b[39;00m\n\u001b[0;32m    663\u001b[0m     \u001b[39mdel\u001b[39;00m \u001b[39mself\u001b[39m\u001b[39m.\u001b[39m_adj[u][v]\n",
      "\u001b[1;31mNetworkXError\u001b[0m: The edge Karamelo Santo-Pablo Lezcano with key El Baile Oficial is not in the graph."
     ]
    }
   ],
   "source": [
    "import jellyfish\n",
    "def es_el_mismo_artista(string_original, string_a_comparar):\n",
    "    es_el_mismo = False\n",
    "    string_original_min, string_a_comparar_min = string_original.lower(), string_a_comparar.lower()\n",
    "    if jellyfish.levenshtein_distance(string_original_min, string_a_comparar_min) < 2:\n",
    "        es_el_mismo = True\n",
    "    elif jellyfish.jaro_distance(string_original_min, string_a_comparar_min) >0.95:\n",
    "        es_el_mismo = True\n",
    "    return es_el_mismo\n",
    "\n",
    "lista_recorridos = []\n",
    "lista_removidos = []\n",
    "copia_lista_artistas = lista_artistas.copy()\n",
    "copia_G = G.copy()\n",
    "#recorro los nodos y miro los que sean parecidos pero no iguales\n",
    "for i in G.nodes():\n",
    "    similares_a_i = []\n",
    "    i = i.replace('&',\"y\") \n",
    "    for j in G.nodes():\n",
    "        if es_el_mismo_artista(i,j)== True and i!= j:\n",
    "            lista_recorridos.append((i,j))\n",
    "            if (j,i) not in lista_recorridos:\n",
    "                try:\n",
    "                    similares_a_i.append(j)\n",
    "                    copia_lista_artistas.remove(j)\n",
    "                    lista_removidos.append(j)\n",
    "                except ValueError:\n",
    "                    pass\n",
    "    #recorro por todos los artistas similares al nodo i, borro el enlace entre el similar y el otro artista\n",
    "    #y se lo agrego al nodo i, FALTA CHECKEAR LA CANCION DEL ENLACE XQ SALTA ERROR\n",
    "    for artista_similar in similares_a_i:\n",
    "        for enlace in G.edges(data=True): #recorro enlaces\n",
    "            if artista_similar in enlace:  #miro si el artista que es similar aparece en el enlace y checkeo cual elemento de la tupla es\n",
    "                if 'Aníbal' in enlace[0] or 'Anibal' in enlace[0] or 'Aníbal' in enlace[1] or 'Anibal' in enlace[1]:\n",
    "                    print(enlace, artista_similar)\n",
    "                if artista_similar == enlace[0]:\n",
    "                    copia_G.add_edge(i, enlace[1])\n",
    "                elif artista_similar == enlace[1]:\n",
    "                    copia_G.add_edge(enlace[0], i) \n",
    "                copia_G.remove_edge(enlace[0], enlace[1]) #elimino el enlace original\n",
    "        "
   ]
  },
  {
   "cell_type": "code",
   "execution_count": 15,
   "metadata": {},
   "outputs": [
    {
     "name": "stdout",
     "output_type": "stream",
     "text": [
      "hola\n"
     ]
    }
   ],
   "source": [
    "print('hola')\n"
   ]
  },
  {
   "cell_type": "code",
   "execution_count": 14,
   "metadata": {},
   "outputs": [
    {
     "name": "stdout",
     "output_type": "stream",
     "text": [
      "1417\n",
      "1496\n"
     ]
    }
   ],
   "source": [
    "print(len(copia_lista_artistas))\n",
    "print(len(lista_artistas))"
   ]
  },
  {
   "cell_type": "code",
   "execution_count": null,
   "metadata": {},
   "outputs": [],
   "source": []
  }
 ],
 "metadata": {
  "kernelspec": {
   "display_name": "Python 3.9.10 ('base')",
   "language": "python",
   "name": "python3"
  },
  "language_info": {
   "codemirror_mode": {
    "name": "ipython",
    "version": 3
   },
   "file_extension": ".py",
   "mimetype": "text/x-python",
   "name": "python",
   "nbconvert_exporter": "python",
   "pygments_lexer": "ipython3",
   "version": "3.9.10"
  },
  "orig_nbformat": 4,
  "vscode": {
   "interpreter": {
    "hash": "12fec0b82b6e67d118931bc7f50b8e717b763be472670bda039269912f70a211"
   }
  }
 },
 "nbformat": 4,
 "nbformat_minor": 2
}
