{
 "cells": [
  {
   "cell_type": "code",
   "execution_count": 3,
   "metadata": {},
   "outputs": [],
   "source": [
    "# Importamos las librerías que vamos a utilizar\n",
    "import requests\n",
    "from bs4 import BeautifulSoup as BS \n",
    "import time\n",
    "import numpy as np"
   ]
  },
  {
   "cell_type": "markdown",
   "metadata": {},
   "source": [
    "ESto lo hice a manopla nomas"
   ]
  },
  {
   "cell_type": "code",
   "execution_count": 4,
   "metadata": {},
   "outputs": [],
   "source": [
    "urls = ['https://es.wikipedia.org/wiki/Categor%C3%ADa:M%C3%BAsicos_de_la_provincia_de_Buenos_Aires',\n",
    "        'https://es.wikipedia.org/wiki/Categor%C3%ADa:M%C3%BAsicos_de_la_provincia_de_Catamarca',\n",
    "        'https://es.wikipedia.org/wiki/Categor%C3%ADa:M%C3%BAsicos_de_la_provincia_del_Chaco',\n",
    "        ]\n",
    "provincia = ['Buenos Aires', 'Catamarca', 'Chaco' ]"
   ]
  },
  {
   "cell_type": "code",
   "execution_count": 9,
   "metadata": {},
   "outputs": [],
   "source": [
    "artistas = []\n",
    "for url in urls:\n",
    "    response = requests.get(url)\n",
    "    soup = BS(response.content)\n",
    "    elements = soup.findAll(attrs = {\"class\": \"mw-category-group\"})\n",
    "    for element in elements:\n",
    "        artistas.append(element.ul.li.a.text)"
   ]
  },
  {
   "cell_type": "code",
   "execution_count": 10,
   "metadata": {},
   "outputs": [
    {
     "data": {
      "text/plain": [
       "['Grupos de música de la provincia de Buenos Aires',\n",
       " 'Músicos de la ciudad de La Plata',\n",
       " 'Músicos de Mar del Plata',\n",
       " 'Músicos de Quilmes',\n",
       " 'María Fernanda Aldana',\n",
       " 'Bernardo Baraj',\n",
       " 'Carca',\n",
       " 'Hugo Díaz Cárdenas',\n",
       " 'El Dipy',\n",
       " 'Carlos Ramón Fernández',\n",
       " 'Héctor García (músico)',\n",
       " 'Federico Haffner',\n",
       " 'Mario Ian',\n",
       " 'Karina la Princesita',\n",
       " 'Julio Lacarra',\n",
       " 'Juan Alejandro Macedonio',\n",
       " 'Iván Noble',\n",
       " \"Claudio O'Connor\",\n",
       " 'Gustavo Parisi',\n",
       " 'Pablo Read',\n",
       " 'Marcelo San Juan',\n",
       " 'Ricardo Tapia',\n",
       " 'Freddy Valeriani',\n",
       " 'Manuel Wirzt',\n",
       " 'YSY A',\n",
       " 'Edmundo P. Zaldívar (h.)',\n",
       " 'Los Catamarqueños',\n",
       " 'Eduardo Negro Sosa',\n",
       " 'Polo Giménez',\n",
       " 'Cololo Macedo',\n",
       " 'Margarita Palacios',\n",
       " 'Oscar Alemán',\n",
       " 'Jovita Díaz',\n",
       " 'Carlos José Pino',\n",
       " 'Antonio Ríos',\n",
       " 'Zitto Segovia',\n",
       " 'Tonolec',\n",
       " 'VeTercero']"
      ]
     },
     "execution_count": 10,
     "metadata": {},
     "output_type": "execute_result"
    }
   ],
   "source": [
    "artistas"
   ]
  },
  {
   "cell_type": "code",
   "execution_count": 11,
   "metadata": {},
   "outputs": [
    {
     "data": {
      "text/plain": [
       "38"
      ]
     },
     "execution_count": 11,
     "metadata": {},
     "output_type": "execute_result"
    }
   ],
   "source": [
    "len(artistas)"
   ]
  },
  {
   "cell_type": "code",
   "execution_count": null,
   "metadata": {},
   "outputs": [],
   "source": []
  }
 ],
 "metadata": {
  "kernelspec": {
   "display_name": "Python 3.9.10 ('base')",
   "language": "python",
   "name": "python3"
  },
  "language_info": {
   "codemirror_mode": {
    "name": "ipython",
    "version": 3
   },
   "file_extension": ".py",
   "mimetype": "text/x-python",
   "name": "python",
   "nbconvert_exporter": "python",
   "pygments_lexer": "ipython3",
   "version": "3.9.10"
  },
  "orig_nbformat": 4,
  "vscode": {
   "interpreter": {
    "hash": "12fec0b82b6e67d118931bc7f50b8e717b763be472670bda039269912f70a211"
   }
  }
 },
 "nbformat": 4,
 "nbformat_minor": 2
}
